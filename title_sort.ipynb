{
 "cells": [
  {
   "cell_type": "code",
   "execution_count": null,
   "metadata": {},
   "outputs": [],
   "source": [
    "import numpy as np\n",
    "import pandas as pd\n",
    "import gensim\n",
    "import gensim.downloader"
   ]
  },
  {
   "cell_type": "code",
   "execution_count": null,
   "metadata": {},
   "outputs": [],
   "source": [
    "df = pd.read_csv(\"example_titles.csv\")\n",
    "print(df)\n",
    "titles = []\n",
    "for title in df[\"Title\"]:\n",
    "    titles.append(title.lower())\n",
    "\n",
    "print(titles)"
   ]
  },
  {
   "cell_type": "code",
   "execution_count": null,
   "metadata": {},
   "outputs": [],
   "source": [
    "categories = {\n",
    "    \"engine\" : [\"engine\"],\n",
    "    \"pharma\" : [\"pharmaceutical\", \"medical\"],\n",
    "    \"electronic\" : [\"electronic\"],\n",
    "    \"military\" : [\"military\"],\n",
    "    \"software\" : [\"software\"],\n",
    "}\n",
    "print(categories)"
   ]
  },
  {
   "cell_type": "code",
   "execution_count": null,
   "metadata": {},
   "outputs": [],
   "source": [
    "print(list(gensim.downloader.info()['models'].keys()))\n",
    "# w2v = gensim.downloader.load('word2vec-google-news-300')\n"
   ]
  },
  {
   "cell_type": "code",
   "execution_count": null,
   "metadata": {},
   "outputs": [],
   "source": [
    "temporary_filepath = \"w2v_model.d2v\"\n",
    "w2v = gensim.models.KeyedVectors.load(temporary_filepath)\n",
    "print(w2v)\n",
    "w2v.most_similar('twitter')"
   ]
  },
  {
   "cell_type": "code",
   "execution_count": null,
   "metadata": {},
   "outputs": [],
   "source": [
    "# w2v.save(temporary_filepath)"
   ]
  },
  {
   "cell_type": "code",
   "execution_count": null,
   "metadata": {},
   "outputs": [],
   "source": [
    "def check_categories():\n",
    "    for _, comps in categories.items():\n",
    "        for comp in comps:\n",
    "            if comp not in w2v:\n",
    "                print(\"Error, comp not in word dictionary: \", comp)\n",
    "check_categories()"
   ]
  },
  {
   "cell_type": "code",
   "execution_count": null,
   "metadata": {},
   "outputs": [],
   "source": [
    "def calc_sim(title: str, comps: str, n_avg: int):\n",
    "    avg_word_sims = []\n",
    "    for word in title.split(\" \"):\n",
    "        sim_sum = 0\n",
    "        print(word)\n",
    "        for comp in comps:\n",
    "            print(comp)\n",
    "            print(w2v.similarity(word, comp))\n",
    "            sim_sum += w2v.similarity(word, comp)\n",
    "        avg_word_sims.append(sim_sum / len(comps))\n",
    "\n",
    "    top_sims = np.array(avg_word_sims)\n",
    "    top_sims.sort()\n",
    "    print(top_sims)\n",
    "    return top_sims[-n_avg:].mean()\n",
    "\n",
    "sim = calc_sim(titles[0], categories[\"pharma\"], 2)\n",
    "print(sim)\n",
    "sim = calc_sim(titles[0], categories[\"electronic\"], 2)\n",
    "print(sim)"
   ]
  },
  {
   "cell_type": "code",
   "execution_count": null,
   "metadata": {},
   "outputs": [],
   "source": []
  }
 ],
 "metadata": {
  "kernelspec": {
   "display_name": "Python 3",
   "language": "python",
   "name": "python3"
  },
  "language_info": {
   "codemirror_mode": {
    "name": "ipython",
    "version": 3
   },
   "file_extension": ".py",
   "mimetype": "text/x-python",
   "name": "python",
   "nbconvert_exporter": "python",
   "pygments_lexer": "ipython3",
   "version": "3.8.5"
  },
  "orig_nbformat": 4,
  "vscode": {
   "interpreter": {
    "hash": "aee8b7b246df8f9039afb4144a1f6fd8d2ca17a180786b69acc140d282b71a49"
   }
  }
 },
 "nbformat": 4,
 "nbformat_minor": 2
}
