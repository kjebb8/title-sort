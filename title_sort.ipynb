{
 "cells": [
  {
   "cell_type": "code",
   "execution_count": null,
   "metadata": {},
   "outputs": [],
   "source": [
    "import numpy as np\n",
    "import pandas as pd\n",
    "import gensim\n",
    "import gensim.downloader\n",
    "import typing\n",
    "import pprint"
   ]
  },
  {
   "cell_type": "code",
   "execution_count": null,
   "metadata": {},
   "outputs": [],
   "source": [
    "df = pd.read_csv(\"example_titles.csv\")\n",
    "print(df)\n",
    "titles = []\n",
    "for title in df[\"Title\"]:\n",
    "    titles.append(title.lower())\n",
    "\n",
    "print(titles)"
   ]
  },
  {
   "cell_type": "code",
   "execution_count": null,
   "metadata": {},
   "outputs": [],
   "source": [
    "categories = {\n",
    "    \"engine\" : [\"engine\"],\n",
    "    \"pharma\" : [\"pharmaceutical\", \"medical\"],\n",
    "    \"electronic\" : [\"electronic\"],\n",
    "    \"military\" : [\"military\"],\n",
    "    \"software\" : [\"software\"],\n",
    "}\n",
    "print(categories)"
   ]
  },
  {
   "cell_type": "code",
   "execution_count": null,
   "metadata": {},
   "outputs": [],
   "source": [
    "# print(list(gensim.downloader.info()['models'].keys()))\n",
    "# w2v = gensim.downloader.load('word2vec-google-news-300')\n"
   ]
  },
  {
   "cell_type": "code",
   "execution_count": null,
   "metadata": {},
   "outputs": [],
   "source": [
    "temporary_filepath = \"w2v_model.d2v\"\n",
    "w2v = gensim.models.KeyedVectors.load(temporary_filepath)\n",
    "print(w2v)\n",
    "# w2v.most_similar('twitter')"
   ]
  },
  {
   "cell_type": "code",
   "execution_count": null,
   "metadata": {},
   "outputs": [],
   "source": [
    "# w2v.save(temporary_filepath)"
   ]
  },
  {
   "cell_type": "code",
   "execution_count": null,
   "metadata": {},
   "outputs": [],
   "source": [
    "def check_categories():\n",
    "    for _, comps in categories.items():\n",
    "        for comp in comps:\n",
    "            if comp not in w2v:\n",
    "                print(\"Error, comp not in word dictionary: \", comp)\n",
    "check_categories()"
   ]
  },
  {
   "cell_type": "code",
   "execution_count": null,
   "metadata": {},
   "outputs": [],
   "source": [
    "def calc_sim(title: str, comps: typing.List[str], n_avg: int):\n",
    "    avg_word_sims = []\n",
    "    word_cnt = 0\n",
    "    for word in title.split(\" \"):\n",
    "        if word not in w2v:\n",
    "            continue\n",
    "        word_cnt += 1\n",
    "        sim_sum = 0\n",
    "        # print(word)\n",
    "        for comp in comps:\n",
    "            # print(comp)\n",
    "            # print(w2v.similarity(word, comp))\n",
    "            sim_sum += w2v.similarity(word, comp)\n",
    "        avg_word_sims.append(sim_sum / len(comps))\n",
    "\n",
    "    top_sims = np.array(avg_word_sims)\n",
    "    top_sims.sort()\n",
    "    # print(top_sims)\n",
    "    n = min(n_avg, word_cnt)\n",
    "    return top_sims[-n:].mean()"
   ]
  },
  {
   "cell_type": "code",
   "execution_count": null,
   "metadata": {},
   "outputs": [],
   "source": [
    "def calc_category_sims(title: str, categories: typing.Dict[str, str]):\n",
    "    sims = []\n",
    "    for _, comps in categories.items():\n",
    "        sim = calc_sim(title, comps, 2)\n",
    "        sims.append(sim)\n",
    "\n",
    "    return np.array(sims)"
   ]
  },
  {
   "cell_type": "code",
   "execution_count": null,
   "metadata": {},
   "outputs": [],
   "source": [
    "def calc_all_sims():\n",
    "    sim_table = np.zeros((len(titles), len(categories)))\n",
    "    for title_idx in range(len(titles)):\n",
    "        sim_table[title_idx, :] = calc_category_sims(titles[title_idx], categories)\n",
    "\n",
    "    return sim_table"
   ]
  },
  {
   "cell_type": "code",
   "execution_count": null,
   "metadata": {},
   "outputs": [],
   "source": [
    "sim_table = calc_all_sims()\n",
    "threshold = 0.2\n",
    "bin_sim_table = np.where(sim_table > threshold, 1, 0)\n",
    "# print(bin_sim_table\n"
   ]
  },
  {
   "cell_type": "code",
   "execution_count": null,
   "metadata": {},
   "outputs": [],
   "source": [
    "def categorize():\n",
    "    categorization = {}\n",
    "    cats = list(categories.keys())\n",
    "    for cat in cats:\n",
    "        categorization[cat] = []\n",
    "    categorization[\"other\"] = []\n",
    "\n",
    "    for title_idx in range(len(titles)):\n",
    "        title_vec = bin_sim_table[title_idx, :]\n",
    "        if 1 not in title_vec:\n",
    "            categorization[\"other\"].append(titles[title_idx])\n",
    "            continue\n",
    "        for cat_idx in range(len(cats)):\n",
    "            if title_vec[cat_idx]:\n",
    "                categorization[cats[cat_idx]].append(titles[title_idx])\n",
    "\n",
    "    return categorization\n"
   ]
  },
  {
   "cell_type": "code",
   "execution_count": null,
   "metadata": {},
   "outputs": [],
   "source": [
    "categorization = categorize()\n",
    "pprint.pprint(categorization)"
   ]
  },
  {
   "cell_type": "code",
   "execution_count": null,
   "metadata": {},
   "outputs": [],
   "source": [
    "cats = list(categories.keys())\n",
    "for cat_idx in range(len(cats)):\n",
    "    df[cats[cat_idx]] = sim_table[:, cat_idx]\n",
    "\n",
    "print(df)\n",
    "df.to_csv(\"example_titles_sorted.csv\")\n"
   ]
  },
  {
   "cell_type": "code",
   "execution_count": null,
   "metadata": {},
   "outputs": [],
   "source": []
  }
 ],
 "metadata": {
  "kernelspec": {
   "display_name": "Python 3",
   "language": "python",
   "name": "python3"
  },
  "language_info": {
   "codemirror_mode": {
    "name": "ipython",
    "version": 3
   },
   "file_extension": ".py",
   "mimetype": "text/x-python",
   "name": "python",
   "nbconvert_exporter": "python",
   "pygments_lexer": "ipython3",
   "version": "3.8.5"
  },
  "orig_nbformat": 4,
  "vscode": {
   "interpreter": {
    "hash": "aee8b7b246df8f9039afb4144a1f6fd8d2ca17a180786b69acc140d282b71a49"
   }
  }
 },
 "nbformat": 4,
 "nbformat_minor": 2
}
